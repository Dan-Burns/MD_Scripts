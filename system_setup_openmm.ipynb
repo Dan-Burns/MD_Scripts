{
 "cells": [
  {
   "cell_type": "code",
   "execution_count": 1,
   "id": "7367f937",
   "metadata": {},
   "outputs": [
    {
     "name": "stderr",
     "output_type": "stream",
     "text": [
      "Warning: importing 'simtk.openmm' is deprecated.  Import 'openmm' instead.\n",
      "Warning: Unable to load toolkit 'OpenEye Toolkit'. The Open Force Field Toolkit does not require the OpenEye Toolkits, and can use RDKit/AmberTools instead. However, if you have a valid license for the OpenEye Toolkits, consider installing them for faster performance and additional file format support: https://docs.eyesopen.com/toolkits/python/quickstart-python/linuxosx.html OpenEye offers free Toolkit licenses for academics: https://www.eyesopen.com/academic-licensing\n"
     ]
    }
   ],
   "source": [
    "from openmm.app import *\n",
    "from openmm import *\n",
    "from openff.toolkit.topology import *\n",
    "from openmm.unit import *\n",
    "import openmmtools as omt\n",
    "from openmmtools.integrators import *\n",
    "import os\n",
    "import numpy as np\n",
    "import MDAnalysis as mda\n",
    "import pandas as pd\n",
    "import matplotlib.pyplot as plt\n",
    "import parmed \n",
    "import re\n",
    "from sys import stdout\n",
    "%load_ext autoreload\n",
    "%autoreload 2"
   ]
  },
  {
   "cell_type": "markdown",
   "id": "43ff1329",
   "metadata": {},
   "source": [
    "5/2/2023\n",
    "Aayushi:\n",
    "I think we need EI \n",
    "( PBD 2KX9 for open and 2HWG for close) \n",
    "Ph 7.4, \n",
    "NaCl 100 mM , \n",
    "35 celcius\n",
    "with PEP bound to the C domain. So the Allostery happens when PEP binds and the structure goes from open to Close state. So I think it would be better to start any network analysis on open."
   ]
  },
  {
   "cell_type": "code",
   "execution_count": 7,
   "id": "2e65d46b",
   "metadata": {},
   "outputs": [],
   "source": [
    "construct = '6dsw'\n",
    "ff = 'amber'\n",
    "ligand = 'dna'\n",
    "structures = '../structures'\n",
    "pdb_file = f'../structures/protein_{construct}_pqr.pdb'\n",
    "pdb = PDBFile(pdb_file)\n",
    "pdb_mg = PDBFile(f'{structures}/Mg_6dsw.pdb')\n",
    "pdb_ligand = PDBFile(f'{structures}/{ligand}_6dsw_pqr.pdb')\n",
    "modeller = Modeller(pdb.topology, pdb.positions)\n",
    "modeller.add(pdb_mg.topology, pdb_mg.positions)\n",
    "modeller.add(pdb_ligand.topology, pdb_ligand.positions)\n"
   ]
  },
  {
   "cell_type": "markdown",
   "id": "f8bb72e3",
   "metadata": {},
   "source": [
    "## Make an OpenMM System and minimized structure"
   ]
  },
  {
   "cell_type": "code",
   "execution_count": null,
   "id": "b4478cba",
   "metadata": {},
   "outputs": [],
   "source": [
    "\n",
    "# parameterize akg\n",
    "'''\n",
    "molecule = Molecule()\n",
    "ligand_molecule = molecule.from_file(f'{structures}/substrate/{ligand.upper()}.mol')\n",
    "ligand_molecule.compute_partial_charges_am1bcc()\n",
    "from openmmforcefields.generators import GAFFTemplateGenerator\n",
    "gaff = GAFFTemplateGenerator(molecules=ligand_molecule)\n",
    "# Create an OpenMM ForceField object with AMBER ff14SB and TIP3P with compatible ions\n",
    "'''\n",
    "from openmm.app import ForceField\n",
    "forcefield = ForceField('amber14-all.xml', 'amber14/tip3pfb.xml')\n",
    "# Register the GAFF template generator\n",
    "#forcefield.registerTemplateGenerator(gaff.generator)\n",
    "# You can now parameterize an OpenMM Topology object that contains the specified molecule.\n",
    "# forcefield will load the appropriate GAFF parameters when needed, and antechamber\n",
    "# will be used to generate small molecule parameters on the fly.\n",
    "\n",
    "# solvate\n",
    "modeller.addSolvent(forcefield, model='tip3p', padding=1.5*nanometer, \n",
    "                    ionicStrength=0.1*molar )\n",
    "# create system object\n",
    "system = forcefield.createSystem(modeller.topology, nonbondedMethod=PME,nonbondedCutoff=1*nanometer, \n",
    "                                 constraints=HBonds)\n",
    "# define temperature and pressure\n",
    "# 35C\n",
    "temperature = 308.15 * kelvin\n",
    "pressure = 1 * bar\n",
    "# Add pressure control\n",
    "system.addForce(MonteCarloBarostat(pressure, temperature))\n",
    "# create integrator object\n",
    "integrator = LangevinMiddleIntegrator(temperature, 1/picosecond, 2*femtoseconds)\n",
    "# create simulation object\n",
    "simulation = Simulation(modeller.topology, system, integrator)\n",
    "simulation.context.setPositions(modeller.positions)\n",
    "simulation.minimizeEnergy()\n",
    "positions = simulation.context.getState(getPositions=True).getPositions()\n",
    "\n",
    "with open(f'../openmm/{construct}_system.xml', 'w') as outfile:\n",
    "    outfile.write(XmlSerializer.serialize(system))\n",
    "with open(f'../openmm/{construct}_minimized.pdb', 'w') as f:\n",
    "    PDBFile.writeFile(simulation.topology, positions, f)\n",
    "\n",
    "\n",
    "##### Save a gromacs topology for future trjconv use - Use a no-constraints version of system to avoid parmed error\n",
    "parmed_system = forcefield.createSystem(modeller.topology, nonbondedMethod=PME,nonbondedCutoff=1*nanometer, rigidWater=False)\n",
    "pmd_structure = parmed.openmm.load_topology(simulation.topology, system=parmed_system, xyz=positions)\n",
    "\n",
    "if os.path.exists(f'../gromacs/'):\n",
    "    pass\n",
    "else:\n",
    "    os.makedirs(f'../gromacs/')\n",
    "    \n",
    "pmd_structure.save(f\"../gromacs/{construct}_SYSTEM.top\", overwrite=True)\n",
    "pmd_structure.save(f\"../gromacs/{construct}_SYSTEM.gro\", overwrite=True)\n",
    "\n",
    "##### \n"
   ]
  },
  {
   "cell_type": "code",
   "execution_count": 5,
   "id": "2abd4e47",
   "metadata": {},
   "outputs": [],
   "source": [
    "# For plumed scaled topologies - if you want to do HREMD\n",
    "import sys\n",
    "sys.path.append('../../../../my_scripts')\n",
    "from molecular_dynamics_analysis_tools.useful_functions import parmed_underscore_topology\n",
    "\n",
    "# get protein atom indices\n",
    "u = mda.Universe(pdb_file)\n",
    "protein = u.select_atoms('protein')\n",
    "atom_indices = [atom.index for atom in protein.atoms]\n",
    "\n",
    "parmed_underscore_topology(f'../gromacs/{construct}_apo/{construct}_amber_apo_SYSTEM.top', \n",
    "                           atom_indices, \n",
    "                           f'../gromacs/{construct}_apo/{construct}_amber_apo_system_underscored.top')\n",
    "\n",
    "# Don't forget to remove the underscores after the atom naming"
   ]
  },
  {
   "cell_type": "code",
   "execution_count": 6,
   "id": "af8c9775",
   "metadata": {},
   "outputs": [],
   "source": []
  },
  {
   "cell_type": "code",
   "execution_count": null,
   "id": "b4986c4a",
   "metadata": {},
   "outputs": [],
   "source": []
  }
 ],
 "metadata": {
  "kernelspec": {
   "display_name": "Python 3 (ipykernel)",
   "language": "python",
   "name": "python3"
  },
  "language_info": {
   "codemirror_mode": {
    "name": "ipython",
    "version": 3
   },
   "file_extension": ".py",
   "mimetype": "text/x-python",
   "name": "python",
   "nbconvert_exporter": "python",
   "pygments_lexer": "ipython3",
   "version": "3.9.7"
  }
 },
 "nbformat": 4,
 "nbformat_minor": 5
}
